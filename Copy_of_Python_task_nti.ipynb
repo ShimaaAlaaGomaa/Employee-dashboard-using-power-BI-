{
  "nbformat": 4,
  "nbformat_minor": 0,
  "metadata": {
    "colab": {
      "provenance": [],
      "authorship_tag": "ABX9TyMfr0c50hUoxEBubKtbnxUT",
      "include_colab_link": true
    },
    "kernelspec": {
      "name": "python3",
      "display_name": "Python 3"
    },
    "language_info": {
      "name": "python"
    }
  },
  "cells": [
    {
      "cell_type": "markdown",
      "metadata": {
        "id": "view-in-github",
        "colab_type": "text"
      },
      "source": [
        "<a href=\"https://colab.research.google.com/github/ShimaaAlaaGomaa/Employee-dashboard-using-power-BI-/blob/main/Copy_of_Python_task_nti.ipynb\" target=\"_parent\"><img src=\"https://colab.research.google.com/assets/colab-badge.svg\" alt=\"Open In Colab\"/></a>"
      ]
    },
    {
      "cell_type": "code",
      "execution_count": null,
      "metadata": {
        "colab": {
          "base_uri": "https://localhost:8080/",
          "height": 170
        },
        "id": "1JD-Cr2dYJ_y",
        "outputId": "5937ca75-3a68-48c2-ae5d-5ff680c4a574"
      },
      "outputs": [
        {
          "output_type": "display_data",
          "data": {
            "text/plain": [
              "<IPython.core.display.HTML object>"
            ],
            "text/html": [
              "\n",
              "     <input type=\"file\" id=\"files-fbd314c0-552a-46d8-a40e-e0a636305b8d\" name=\"files[]\" multiple disabled\n",
              "        style=\"border:none\" />\n",
              "     <output id=\"result-fbd314c0-552a-46d8-a40e-e0a636305b8d\">\n",
              "      Upload widget is only available when the cell has been executed in the\n",
              "      current browser session. Please rerun this cell to enable.\n",
              "      </output>\n",
              "      <script>// Copyright 2017 Google LLC\n",
              "//\n",
              "// Licensed under the Apache License, Version 2.0 (the \"License\");\n",
              "// you may not use this file except in compliance with the License.\n",
              "// You may obtain a copy of the License at\n",
              "//\n",
              "//      http://www.apache.org/licenses/LICENSE-2.0\n",
              "//\n",
              "// Unless required by applicable law or agreed to in writing, software\n",
              "// distributed under the License is distributed on an \"AS IS\" BASIS,\n",
              "// WITHOUT WARRANTIES OR CONDITIONS OF ANY KIND, either express or implied.\n",
              "// See the License for the specific language governing permissions and\n",
              "// limitations under the License.\n",
              "\n",
              "/**\n",
              " * @fileoverview Helpers for google.colab Python module.\n",
              " */\n",
              "(function(scope) {\n",
              "function span(text, styleAttributes = {}) {\n",
              "  const element = document.createElement('span');\n",
              "  element.textContent = text;\n",
              "  for (const key of Object.keys(styleAttributes)) {\n",
              "    element.style[key] = styleAttributes[key];\n",
              "  }\n",
              "  return element;\n",
              "}\n",
              "\n",
              "// Max number of bytes which will be uploaded at a time.\n",
              "const MAX_PAYLOAD_SIZE = 100 * 1024;\n",
              "\n",
              "function _uploadFiles(inputId, outputId) {\n",
              "  const steps = uploadFilesStep(inputId, outputId);\n",
              "  const outputElement = document.getElementById(outputId);\n",
              "  // Cache steps on the outputElement to make it available for the next call\n",
              "  // to uploadFilesContinue from Python.\n",
              "  outputElement.steps = steps;\n",
              "\n",
              "  return _uploadFilesContinue(outputId);\n",
              "}\n",
              "\n",
              "// This is roughly an async generator (not supported in the browser yet),\n",
              "// where there are multiple asynchronous steps and the Python side is going\n",
              "// to poll for completion of each step.\n",
              "// This uses a Promise to block the python side on completion of each step,\n",
              "// then passes the result of the previous step as the input to the next step.\n",
              "function _uploadFilesContinue(outputId) {\n",
              "  const outputElement = document.getElementById(outputId);\n",
              "  const steps = outputElement.steps;\n",
              "\n",
              "  const next = steps.next(outputElement.lastPromiseValue);\n",
              "  return Promise.resolve(next.value.promise).then((value) => {\n",
              "    // Cache the last promise value to make it available to the next\n",
              "    // step of the generator.\n",
              "    outputElement.lastPromiseValue = value;\n",
              "    return next.value.response;\n",
              "  });\n",
              "}\n",
              "\n",
              "/**\n",
              " * Generator function which is called between each async step of the upload\n",
              " * process.\n",
              " * @param {string} inputId Element ID of the input file picker element.\n",
              " * @param {string} outputId Element ID of the output display.\n",
              " * @return {!Iterable<!Object>} Iterable of next steps.\n",
              " */\n",
              "function* uploadFilesStep(inputId, outputId) {\n",
              "  const inputElement = document.getElementById(inputId);\n",
              "  inputElement.disabled = false;\n",
              "\n",
              "  const outputElement = document.getElementById(outputId);\n",
              "  outputElement.innerHTML = '';\n",
              "\n",
              "  const pickedPromise = new Promise((resolve) => {\n",
              "    inputElement.addEventListener('change', (e) => {\n",
              "      resolve(e.target.files);\n",
              "    });\n",
              "  });\n",
              "\n",
              "  const cancel = document.createElement('button');\n",
              "  inputElement.parentElement.appendChild(cancel);\n",
              "  cancel.textContent = 'Cancel upload';\n",
              "  const cancelPromise = new Promise((resolve) => {\n",
              "    cancel.onclick = () => {\n",
              "      resolve(null);\n",
              "    };\n",
              "  });\n",
              "\n",
              "  // Wait for the user to pick the files.\n",
              "  const files = yield {\n",
              "    promise: Promise.race([pickedPromise, cancelPromise]),\n",
              "    response: {\n",
              "      action: 'starting',\n",
              "    }\n",
              "  };\n",
              "\n",
              "  cancel.remove();\n",
              "\n",
              "  // Disable the input element since further picks are not allowed.\n",
              "  inputElement.disabled = true;\n",
              "\n",
              "  if (!files) {\n",
              "    return {\n",
              "      response: {\n",
              "        action: 'complete',\n",
              "      }\n",
              "    };\n",
              "  }\n",
              "\n",
              "  for (const file of files) {\n",
              "    const li = document.createElement('li');\n",
              "    li.append(span(file.name, {fontWeight: 'bold'}));\n",
              "    li.append(span(\n",
              "        `(${file.type || 'n/a'}) - ${file.size} bytes, ` +\n",
              "        `last modified: ${\n",
              "            file.lastModifiedDate ? file.lastModifiedDate.toLocaleDateString() :\n",
              "                                    'n/a'} - `));\n",
              "    const percent = span('0% done');\n",
              "    li.appendChild(percent);\n",
              "\n",
              "    outputElement.appendChild(li);\n",
              "\n",
              "    const fileDataPromise = new Promise((resolve) => {\n",
              "      const reader = new FileReader();\n",
              "      reader.onload = (e) => {\n",
              "        resolve(e.target.result);\n",
              "      };\n",
              "      reader.readAsArrayBuffer(file);\n",
              "    });\n",
              "    // Wait for the data to be ready.\n",
              "    let fileData = yield {\n",
              "      promise: fileDataPromise,\n",
              "      response: {\n",
              "        action: 'continue',\n",
              "      }\n",
              "    };\n",
              "\n",
              "    // Use a chunked sending to avoid message size limits. See b/62115660.\n",
              "    let position = 0;\n",
              "    do {\n",
              "      const length = Math.min(fileData.byteLength - position, MAX_PAYLOAD_SIZE);\n",
              "      const chunk = new Uint8Array(fileData, position, length);\n",
              "      position += length;\n",
              "\n",
              "      const base64 = btoa(String.fromCharCode.apply(null, chunk));\n",
              "      yield {\n",
              "        response: {\n",
              "          action: 'append',\n",
              "          file: file.name,\n",
              "          data: base64,\n",
              "        },\n",
              "      };\n",
              "\n",
              "      let percentDone = fileData.byteLength === 0 ?\n",
              "          100 :\n",
              "          Math.round((position / fileData.byteLength) * 100);\n",
              "      percent.textContent = `${percentDone}% done`;\n",
              "\n",
              "    } while (position < fileData.byteLength);\n",
              "  }\n",
              "\n",
              "  // All done.\n",
              "  yield {\n",
              "    response: {\n",
              "      action: 'complete',\n",
              "    }\n",
              "  };\n",
              "}\n",
              "\n",
              "scope.google = scope.google || {};\n",
              "scope.google.colab = scope.google.colab || {};\n",
              "scope.google.colab._files = {\n",
              "  _uploadFiles,\n",
              "  _uploadFilesContinue,\n",
              "};\n",
              "})(self);\n",
              "</script> "
            ]
          },
          "metadata": {}
        },
        {
          "output_type": "stream",
          "name": "stdout",
          "text": [
            "Saving road_accident_data.xlsx to road_accident_data.xlsx\n"
          ]
        }
      ],
      "source": [
        "\n",
        "from google.colab import files\n",
        "uploaded = files.upload()"
      ]
    },
    {
      "cell_type": "code",
      "source": [
        "\n",
        "import pandas as pd\n",
        "\n",
        "df = pd.read_excel('road_accident_data.xlsx')\n",
        "\n",
        "print(df.head())\n",
        "print(df.columns)\n",
        "print(df.info())"
      ],
      "metadata": {
        "colab": {
          "base_uri": "https://localhost:8080/"
        },
        "id": "yVvFoOihYQg6",
        "outputId": "a8068718-885b-459e-c48c-3b6cdc73fe49"
      },
      "execution_count": null,
      "outputs": [
        {
          "output_type": "stream",
          "name": "stdout",
          "text": [
            "       ID          State                Date Day_of_Week Time_of_Day  \\\n",
            "0  165433    Connecticut 2024-02-20 05:46:20     Tuesday    19:59:02   \n",
            "1  165434  Massachusetts 2024-01-09 05:08:31   Wednesday    21:28:51   \n",
            "2  165435        Wyoming 2024-02-20 08:26:27    Thursday    18:04:26   \n",
            "3  165436         Hawaii 2024-01-15 03:23:47      Sunday    16:51:02   \n",
            "4  165437       Oklahoma 2024-02-10 10:17:29     Tuesday    14:19:19   \n",
            "\n",
            "  Weather_Conditions Road_Conditions Light_Conditions Type_of_Road  \\\n",
            "0              Rainy           Muddy         Daylight       Street   \n",
            "1              Sunny           Muddy         Daylight      Highway   \n",
            "2              Snowy           Snowy             Dawn       Street   \n",
            "3              Snowy             Icy         Daylight       Street   \n",
            "4              Foggy             Icy            Night        Rural   \n",
            "\n",
            "  Type_of_Junction  ... Num_Vehicles_Involved Num_Casualties Speed_Limit  \\\n",
            "0       T-Junction  ...                     2              3        57.0   \n",
            "1     Intersection  ...                     1              0        55.0   \n",
            "2        Underpass  ...                     3              1        38.0   \n",
            "3     Intersection  ...                     5              0        59.0   \n",
            "4       T-Junction  ...                     2              0        53.0   \n",
            "\n",
            "   Distance_to_Nearest_Hospital  Distance_to_Nearest_Police_Station  \\\n",
            "0                      3.303606                            3.139351   \n",
            "1                      2.715327                            3.634593   \n",
            "2                      4.811429                            9.631561   \n",
            "3                      6.976968                            2.334468   \n",
            "4                      3.724599                            4.359620   \n",
            "\n",
            "   Visibility  Road_Width  Road_Surface_Friction_Coefficient  Vehicle_Speed  \\\n",
            "0  485.649012    4.886202                           0.904971           45.0   \n",
            "1  616.979936    4.677592                           0.949236           41.0   \n",
            "2  838.741654    9.926058                           0.184447           64.0   \n",
            "3  842.441019    4.351822                           0.195811            NaN   \n",
            "4  905.620263    6.626862                           0.954821           81.0   \n",
            "\n",
            "   Time_Taken_for_Emergency_Response  \n",
            "0                          25.152781  \n",
            "1                          23.163817  \n",
            "2                           6.697750  \n",
            "3                           6.595036  \n",
            "4                          22.913128  \n",
            "\n",
            "[5 rows x 23 columns]\n",
            "Index(['ID', 'State', 'Date', 'Day_of_Week', 'Time_of_Day',\n",
            "       'Weather_Conditions', 'Road_Conditions', 'Light_Conditions',\n",
            "       'Type_of_Road', 'Type_of_Junction', 'Type_of_Accident', 'Vehicle_Type',\n",
            "       'Driver_Age_Group', 'Num_Vehicles_Involved', 'Num_Casualties',\n",
            "       'Speed_Limit', 'Distance_to_Nearest_Hospital',\n",
            "       'Distance_to_Nearest_Police_Station', 'Visibility', 'Road_Width',\n",
            "       'Road_Surface_Friction_Coefficient', 'Vehicle_Speed',\n",
            "       'Time_Taken_for_Emergency_Response'],\n",
            "      dtype='object')\n",
            "<class 'pandas.core.frame.DataFrame'>\n",
            "RangeIndex: 1610 entries, 0 to 1609\n",
            "Data columns (total 23 columns):\n",
            " #   Column                              Non-Null Count  Dtype         \n",
            "---  ------                              --------------  -----         \n",
            " 0   ID                                  1610 non-null   int64         \n",
            " 1   State                               1610 non-null   object        \n",
            " 2   Date                                1610 non-null   datetime64[ns]\n",
            " 3   Day_of_Week                         1610 non-null   object        \n",
            " 4   Time_of_Day                         1610 non-null   object        \n",
            " 5   Weather_Conditions                  1461 non-null   object        \n",
            " 6   Road_Conditions                     1610 non-null   object        \n",
            " 7   Light_Conditions                    1610 non-null   object        \n",
            " 8   Type_of_Road                        1610 non-null   object        \n",
            " 9   Type_of_Junction                    1455 non-null   object        \n",
            " 10  Type_of_Accident                    1610 non-null   object        \n",
            " 11  Vehicle_Type                        1610 non-null   object        \n",
            " 12  Driver_Age_Group                    1610 non-null   object        \n",
            " 13  Num_Vehicles_Involved               1610 non-null   int64         \n",
            " 14  Num_Casualties                      1610 non-null   int64         \n",
            " 15  Speed_Limit                         1457 non-null   float64       \n",
            " 16  Distance_to_Nearest_Hospital        1610 non-null   float64       \n",
            " 17  Distance_to_Nearest_Police_Station  1610 non-null   float64       \n",
            " 18  Visibility                          1610 non-null   float64       \n",
            " 19  Road_Width                          1453 non-null   float64       \n",
            " 20  Road_Surface_Friction_Coefficient   1610 non-null   float64       \n",
            " 21  Vehicle_Speed                       1433 non-null   float64       \n",
            " 22  Time_Taken_for_Emergency_Response   1444 non-null   float64       \n",
            "dtypes: datetime64[ns](1), float64(8), int64(3), object(11)\n",
            "memory usage: 289.4+ KB\n",
            "None\n"
          ]
        }
      ]
    },
    {
      "cell_type": "code",
      "source": [
        "\n",
        "duplicates = df.duplicated().sum()\n",
        "print(\"Number of duplicate rows:\", duplicates)\n",
        "\n",
        "df = df.drop_duplicates()\n",
        "\n",
        "print(\"New shape after removing duplicates:\", df.shape)"
      ],
      "metadata": {
        "colab": {
          "base_uri": "https://localhost:8080/"
        },
        "id": "ZF-UiIoOYQ2P",
        "outputId": "a76b9561-6d7d-4e72-c166-38b1810678a6"
      },
      "execution_count": null,
      "outputs": [
        {
          "output_type": "stream",
          "name": "stdout",
          "text": [
            "Number of duplicate rows: 0\n",
            "New shape after removing duplicates: (1610, 23)\n"
          ]
        }
      ]
    },
    {
      "cell_type": "code",
      "source": [
        "df = df.dropna(thresh=len(df.columns) // 2)"
      ],
      "metadata": {
        "id": "XIkufVviYRF5"
      },
      "execution_count": null,
      "outputs": []
    },
    {
      "cell_type": "code",
      "source": [
        "num_cols = df.select_dtypes(include=['float64', 'int64']).columns\n",
        "obj_cols = df.select_dtypes(include=['object']).columns\n",
        "\n",
        "df[num_cols] = df[num_cols].fillna(df[num_cols].mean())\n",
        "df[obj_cols] = df[obj_cols].fillna(df[obj_cols].mode().iloc[0])"
      ],
      "metadata": {
        "id": "SO5xsQ4TYRSL"
      },
      "execution_count": null,
      "outputs": []
    },
    {
      "cell_type": "code",
      "source": [
        "print(df.isnull().sum())"
      ],
      "metadata": {
        "colab": {
          "base_uri": "https://localhost:8080/"
        },
        "id": "A6JYLixfYRVm",
        "outputId": "5961c70e-a225-4d5f-b577-9587e6e8b880"
      },
      "execution_count": null,
      "outputs": [
        {
          "output_type": "stream",
          "name": "stdout",
          "text": [
            "ID                                    0\n",
            "State                                 0\n",
            "Date                                  0\n",
            "Day_of_Week                           0\n",
            "Time_of_Day                           0\n",
            "Weather_Conditions                    0\n",
            "Road_Conditions                       0\n",
            "Light_Conditions                      0\n",
            "Type_of_Road                          0\n",
            "Type_of_Junction                      0\n",
            "Type_of_Accident                      0\n",
            "Vehicle_Type                          0\n",
            "Driver_Age_Group                      0\n",
            "Num_Vehicles_Involved                 0\n",
            "Num_Casualties                        0\n",
            "Speed_Limit                           0\n",
            "Distance_to_Nearest_Hospital          0\n",
            "Distance_to_Nearest_Police_Station    0\n",
            "Visibility                            0\n",
            "Road_Width                            0\n",
            "Road_Surface_Friction_Coefficient     0\n",
            "Vehicle_Speed                         0\n",
            "Time_Taken_for_Emergency_Response     0\n",
            "dtype: int64\n"
          ]
        }
      ]
    },
    {
      "cell_type": "code",
      "source": [
        "print(df.dtypes)"
      ],
      "metadata": {
        "colab": {
          "base_uri": "https://localhost:8080/"
        },
        "id": "JRQuf9yXYRYW",
        "outputId": "8f9572f3-5571-4663-d77e-d6f8e07ac466"
      },
      "execution_count": null,
      "outputs": [
        {
          "output_type": "stream",
          "name": "stdout",
          "text": [
            "ID                                             int64\n",
            "State                                         object\n",
            "Date                                  datetime64[ns]\n",
            "Day_of_Week                                   object\n",
            "Time_of_Day                                   object\n",
            "Weather_Conditions                            object\n",
            "Road_Conditions                               object\n",
            "Light_Conditions                              object\n",
            "Type_of_Road                                  object\n",
            "Type_of_Junction                              object\n",
            "Type_of_Accident                              object\n",
            "Vehicle_Type                                  object\n",
            "Driver_Age_Group                              object\n",
            "Num_Vehicles_Involved                          int64\n",
            "Num_Casualties                                 int64\n",
            "Speed_Limit                                  float64\n",
            "Distance_to_Nearest_Hospital                 float64\n",
            "Distance_to_Nearest_Police_Station           float64\n",
            "Visibility                                   float64\n",
            "Road_Width                                   float64\n",
            "Road_Surface_Friction_Coefficient            float64\n",
            "Vehicle_Speed                                float64\n",
            "Time_Taken_for_Emergency_Response            float64\n",
            "dtype: object\n"
          ]
        }
      ]
    },
    {
      "cell_type": "code",
      "source": [
        "df['Hour'] = pd.to_datetime(df['Time_of_Day'], format='%H:%M:%S').dt.hour\n",
        "\n",
        "def get_period(hour):\n",
        "    if 5 <= hour < 12:\n",
        "        return 'Morning'\n",
        "    elif 12 <= hour < 17:\n",
        "        return 'Afternoon'\n",
        "    elif 17 <= hour < 21:\n",
        "        return 'Evening'\n",
        "    else:\n",
        "        return 'Night'\n",
        "\n",
        "df['Time_Period'] = df['Hour'].apply(get_period)"
      ],
      "metadata": {
        "id": "ZW-PNBdnYuIj"
      },
      "execution_count": null,
      "outputs": []
    },
    {
      "cell_type": "code",
      "source": [
        "print(df.duplicated().sum())"
      ],
      "metadata": {
        "colab": {
          "base_uri": "https://localhost:8080/"
        },
        "id": "Fd6erPeVYyCy",
        "outputId": "c1932bb7-ad1d-4671-fd2a-17674fe12aff"
      },
      "execution_count": null,
      "outputs": [
        {
          "output_type": "stream",
          "name": "stdout",
          "text": [
            "0\n"
          ]
        }
      ]
    },
    {
      "cell_type": "code",
      "source": [
        "\n",
        "import seaborn as sns\n",
        "import matplotlib.pyplot as plt\n",
        "\n",
        "num_cols = ['Speed_Limit', 'Vehicle_Speed', 'Visibility', 'Distance_to_Nearest_Hospital', 'Time_Taken_for_Emergency_Response']\n",
        "\n",
        "for col in num_cols:\n",
        "    sns.boxplot(x=df[col])\n",
        "    plt.title(col)\n",
        "    plt.show()"
      ],
      "metadata": {
        "colab": {
          "base_uri": "https://localhost:8080/",
          "height": 1000
        },
        "id": "PwffarCCY1YP",
        "outputId": "2030a085-615f-4cc1-8c20-1588e436ecd2"
      },
      "execution_count": null,
      "outputs": [
        {
          "output_type": "display_data",
          "data": {
            "text/plain": [
              "<Figure size 640x480 with 1 Axes>"
            ],
            "image/png": "[encoded data removed]"
          },
          "metadata": {}
        },
        {
          "output_type": "display_data",
          "data": {
            "text/plain": [
              "<Figure size 640x480 with 1 Axes>"
            ],
            "image/png": "[encoded data removed]"
          },
          "metadata": {}
        },
        {
          "output_type": "display_data",
          "data": {
            "text/plain": [
              "<Figure size 640x480 with 1 Axes>"
            ],
            "image/png": "[encoded data removed]"
          },
          "metadata": {}
        },
        {
          "output_type": "display_data",
          "data": {
            "text/plain": [
              "<Figure size 640x480 with 1 Axes>"
            ],
            "image/png": "[encoded data removed]"
          },
          "metadata": {}
        },
        {
          "output_type": "display_data",
          "data": {
            "text/plain": [
              "<Figure size 640x480 with 1 Axes>"
            ],
            "image/png": "[encoded data removed]"
          },
          "metadata": {}
        }
      ]
    },
    {
      "cell_type": "code",
      "source": [
        "num_cols = df.select_dtypes(include=['float64', 'int64']).columns\n",
        "\n",
        "for col in num_cols:\n",
        "    Q1 = df[col].quantile(0.25)\n",
        "    Q3 = df[col].quantile(0.75)\n",
        "    IQR = Q3 - Q1\n",
        "    lower = Q1 - 1.5 * IQR\n",
        "    upper = Q3 + 1.5 * IQR\n",
        "    outliers = df[(df[col] < lower) | (df[col] > upper)]\n",
        "    print(f'Column: {col} - Outliers: {len(outliers)}')"
      ],
      "metadata": {
        "colab": {
          "base_uri": "https://localhost:8080/"
        },
        "id": "L80EqS6uY5aP",
        "outputId": "06298b53-59c8-4e00-b70f-1ab4ea59d2d2"
      },
      "execution_count": null,
      "outputs": [
        {
          "output_type": "stream",
          "name": "stdout",
          "text": [
            "Column: ID - Outliers: 0\n",
            "Column: Num_Vehicles_Involved - Outliers: 0\n",
            "Column: Num_Casualties - Outliers: 0\n",
            "Column: Speed_Limit - Outliers: 0\n",
            "Column: Distance_to_Nearest_Hospital - Outliers: 0\n",
            "Column: Distance_to_Nearest_Police_Station - Outliers: 0\n",
            "Column: Visibility - Outliers: 0\n",
            "Column: Road_Width - Outliers: 0\n",
            "Column: Road_Surface_Friction_Coefficient - Outliers: 0\n",
            "Column: Vehicle_Speed - Outliers: 0\n",
            "Column: Time_Taken_for_Emergency_Response - Outliers: 0\n"
          ]
        }
      ]
    },
    {
      "cell_type": "code",
      "source": [
        "\n",
        "from sklearn.preprocessing import MinMaxScaler\n",
        "\n",
        "scaler = MinMaxScaler()\n",
        "\n",
        "num_cols = df.select_dtypes(include=['float64', 'int64']).columns\n",
        "\n",
        "df[num_cols] = scaler.fit_transform(df[num_cols])"
      ],
      "metadata": {
        "id": "3QBY_4dnY9vH"
      },
      "execution_count": null,
      "outputs": []
    },
    {
      "cell_type": "code",
      "source": [
        "print(df.head())"
      ],
      "metadata": {
        "colab": {
          "base_uri": "https://localhost:8080/"
        },
        "id": "Wo77NqUZZBYy",
        "outputId": "fe122242-fcd7-4575-eb76-4f1d82f5076b"
      },
      "execution_count": null,
      "outputs": [
        {
          "output_type": "stream",
          "name": "stdout",
          "text": [
            "         ID          State                Date Day_of_Week Time_of_Day  \\\n",
            "0  0.000000    Connecticut 2024-02-20 05:46:20     Tuesday    19:59:02   \n",
            "1  0.000622  Massachusetts 2024-01-09 05:08:31   Wednesday    21:28:51   \n",
            "2  0.001243        Wyoming 2024-02-20 08:26:27    Thursday    18:04:26   \n",
            "3  0.001865         Hawaii 2024-01-15 03:23:47      Sunday    16:51:02   \n",
            "4  0.002486       Oklahoma 2024-02-10 10:17:29     Tuesday    14:19:19   \n",
            "\n",
            "  Weather_Conditions Road_Conditions Light_Conditions Type_of_Road  \\\n",
            "0              Rainy           Muddy         Daylight       Street   \n",
            "1              Sunny           Muddy         Daylight      Highway   \n",
            "2              Snowy           Snowy             Dawn       Street   \n",
            "3              Snowy             Icy         Daylight       Street   \n",
            "4              Foggy             Icy            Night        Rural   \n",
            "\n",
            "  Type_of_Junction  ... Speed_Limit Distance_to_Nearest_Hospital  \\\n",
            "0       T-Junction  ...       0.675                     0.322671   \n",
            "1     Intersection  ...       0.625                     0.263164   \n",
            "2        Underpass  ...       0.200                     0.475193   \n",
            "3     Intersection  ...       0.725                     0.694246   \n",
            "4       T-Junction  ...       0.575                     0.365256   \n",
            "\n",
            "  Distance_to_Nearest_Police_Station  Visibility  Road_Width  \\\n",
            "0                           0.307027    0.428389    0.269551   \n",
            "1                           0.357064    0.574360    0.239734   \n",
            "2                           0.962966    0.820842    0.989920   \n",
            "3                           0.225706    0.824954    0.193170   \n",
            "4                           0.430317    0.895176    0.518351   \n",
            "\n",
            "   Road_Surface_Friction_Coefficient  Vehicle_Speed  \\\n",
            "0                           0.894890        0.45000   \n",
            "1                           0.944115        0.41000   \n",
            "2                           0.093620        0.64000   \n",
            "3                           0.106258        0.49933   \n",
            "4                           0.950327        0.81000   \n",
            "\n",
            "   Time_Taken_for_Emergency_Response  Hour  Time_Period  \n",
            "0                           0.806467    19      Evening  \n",
            "1                           0.726745    21        Night  \n",
            "2                           0.066752    18      Evening  \n",
            "3                           0.062635    16    Afternoon  \n",
            "4                           0.716697    14    Afternoon  \n",
            "\n",
            "[5 rows x 25 columns]\n"
          ]
        }
      ]
    },
    {
      "cell_type": "code",
      "source": [
        "df.to_excel('road_accident_data_clean_normalized.xlsx', index=False)"
      ],
      "metadata": {
        "id": "sDPBsq_IZDhl"
      },
      "execution_count": null,
      "outputs": []
    }
  ]
}